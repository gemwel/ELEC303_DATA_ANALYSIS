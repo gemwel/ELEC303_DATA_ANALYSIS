{
 "cells": [
  {
   "cell_type": "code",
   "execution_count": null,
   "id": "6b833564-3897-461e-8644-4ef7e4b0d6b3",
   "metadata": {},
   "outputs": [],
   "source": []
  },
  {
   "cell_type": "code",
   "execution_count": 1,
   "id": "7a91172a-6ff5-4b7f-b14b-a0666abeb970",
   "metadata": {},
   "outputs": [
    {
     "name": "stdout",
     "output_type": "stream",
     "text": [
      "Hello World\n"
     ]
    }
   ],
   "source": [
    "print(\"Hello World\")"
   ]
  },
  {
   "cell_type": "code",
   "execution_count": 6,
   "id": "77602d91-14ff-4485-bf33-b5bccce5c753",
   "metadata": {},
   "outputs": [
    {
     "data": {
      "text/plain": [
       "'jimuelperez'"
      ]
     },
     "execution_count": 6,
     "metadata": {},
     "output_type": "execute_result"
    }
   ],
   "source": [
    "j='jimuel'\n",
    "p='perez'\n",
    "j+p"
   ]
  },
  {
   "cell_type": "code",
   "execution_count": 10,
   "id": "6b243d41-1913-4889-bd24-5e91e7b70d6f",
   "metadata": {},
   "outputs": [
    {
     "name": "stdin",
     "output_type": "stream",
     "text": [
      "write your initial: j\n"
     ]
    },
    {
     "data": {
      "text/plain": [
       "'j'"
      ]
     },
     "execution_count": 10,
     "metadata": {},
     "output_type": "execute_result"
    }
   ],
   "source": [
    "j='jimuel'\n",
    "p='perez'\n",
    "j+p\n",
    "input(\"write your initial:\")"
   ]
  }
 ],
 "metadata": {
  "kernelspec": {
   "display_name": "Python 3 (ipykernel)",
   "language": "python",
   "name": "python3"
  },
  "language_info": {
   "codemirror_mode": {
    "name": "ipython",
    "version": 3
   },
   "file_extension": ".py",
   "mimetype": "text/x-python",
   "name": "python",
   "nbconvert_exporter": "python",
   "pygments_lexer": "ipython3",
   "version": "3.13.5"
  }
 },
 "nbformat": 4,
 "nbformat_minor": 5
}
